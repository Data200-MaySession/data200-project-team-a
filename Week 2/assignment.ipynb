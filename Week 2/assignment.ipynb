{
 "cells": [
  {
   "cell_type": "code",
   "execution_count": 6,
   "id": "ffe5ea2d",
   "metadata": {},
   "outputs": [
    {
     "name": "stdout",
     "output_type": "stream",
     "text": [
      "Requirement already satisfied: scipy in k:\\data200-project-team-a\\env\\lib\\site-packages (1.15.3)\n",
      "Requirement already satisfied: statsmodels in k:\\data200-project-team-a\\env\\lib\\site-packages (0.14.4)\n",
      "Requirement already satisfied: numpy<2.5,>=1.23.5 in k:\\data200-project-team-a\\env\\lib\\site-packages (from scipy) (2.2.5)\n",
      "Requirement already satisfied: pandas!=2.1.0,>=1.4 in k:\\data200-project-team-a\\env\\lib\\site-packages (from statsmodels) (2.2.3)\n",
      "Requirement already satisfied: patsy>=0.5.6 in k:\\data200-project-team-a\\env\\lib\\site-packages (from statsmodels) (1.0.1)\n",
      "Requirement already satisfied: packaging>=21.3 in k:\\data200-project-team-a\\env\\lib\\site-packages (from statsmodels) (25.0)\n",
      "Requirement already satisfied: python-dateutil>=2.8.2 in k:\\data200-project-team-a\\env\\lib\\site-packages (from pandas!=2.1.0,>=1.4->statsmodels) (2.9.0.post0)\n",
      "Requirement already satisfied: pytz>=2020.1 in k:\\data200-project-team-a\\env\\lib\\site-packages (from pandas!=2.1.0,>=1.4->statsmodels) (2025.2)\n",
      "Requirement already satisfied: tzdata>=2022.7 in k:\\data200-project-team-a\\env\\lib\\site-packages (from pandas!=2.1.0,>=1.4->statsmodels) (2025.2)\n",
      "Requirement already satisfied: six>=1.5 in k:\\data200-project-team-a\\env\\lib\\site-packages (from python-dateutil>=2.8.2->pandas!=2.1.0,>=1.4->statsmodels) (1.17.0)\n"
     ]
    },
    {
     "name": "stderr",
     "output_type": "stream",
     "text": [
      "\n",
      "[notice] A new release of pip is available: 24.0 -> 25.1.1\n",
      "[notice] To update, run: python.exe -m pip install --upgrade pip\n"
     ]
    }
   ],
   "source": [
    "# (Run this once at the top)\n",
    "!pip install scipy statsmodels\n"
   ]
  },
  {
   "cell_type": "code",
   "execution_count": 7,
   "id": "701e9cb8",
   "metadata": {},
   "outputs": [],
   "source": [
    "import pandas as pd\n",
    "import numpy as np\n",
    "\n",
    "from scipy.stats import f_oneway\n",
    "import statsmodels.api as sm\n",
    "from statsmodels.formula.api import ols\n"
   ]
  },
  {
   "cell_type": "code",
   "execution_count": 8,
   "id": "3f808022",
   "metadata": {},
   "outputs": [
    {
     "data": {
      "text/html": [
       "<div>\n",
       "<style scoped>\n",
       "    .dataframe tbody tr th:only-of-type {\n",
       "        vertical-align: middle;\n",
       "    }\n",
       "\n",
       "    .dataframe tbody tr th {\n",
       "        vertical-align: top;\n",
       "    }\n",
       "\n",
       "    .dataframe thead th {\n",
       "        text-align: right;\n",
       "    }\n",
       "</style>\n",
       "<table border=\"1\" class=\"dataframe\">\n",
       "  <thead>\n",
       "    <tr style=\"text-align: right;\">\n",
       "      <th></th>\n",
       "      <th>Advertising_Spend</th>\n",
       "      <th>Region</th>\n",
       "      <th>Sales</th>\n",
       "      <th>Time_Period</th>\n",
       "      <th>Product_Category</th>\n",
       "    </tr>\n",
       "  </thead>\n",
       "  <tbody>\n",
       "    <tr>\n",
       "      <th>0</th>\n",
       "      <td>43.708611</td>\n",
       "      <td>East</td>\n",
       "      <td>151.221290</td>\n",
       "      <td>1</td>\n",
       "      <td>B</td>\n",
       "    </tr>\n",
       "    <tr>\n",
       "      <th>1</th>\n",
       "      <td>95.564288</td>\n",
       "      <td>South</td>\n",
       "      <td>158.828662</td>\n",
       "      <td>2</td>\n",
       "      <td>A</td>\n",
       "    </tr>\n",
       "    <tr>\n",
       "      <th>2</th>\n",
       "      <td>75.879455</td>\n",
       "      <td>South</td>\n",
       "      <td>33.328037</td>\n",
       "      <td>3</td>\n",
       "      <td>A</td>\n",
       "    </tr>\n",
       "  </tbody>\n",
       "</table>\n",
       "</div>"
      ],
      "text/plain": [
       "   Advertising_Spend Region       Sales  Time_Period Product_Category\n",
       "0          43.708611   East  151.221290            1                B\n",
       "1          95.564288  South  158.828662            2                A\n",
       "2          75.879455  South   33.328037            3                A"
      ]
     },
     "execution_count": 8,
     "metadata": {},
     "output_type": "execute_result"
    }
   ],
   "source": [
    "np.random.seed(42)\n",
    "\n",
    "data = {\n",
    "    'Advertising_Spend': np.random.uniform(10, 100, 50),\n",
    "    'Region':            np.random.choice(['North', 'South', 'East', 'West'], 50),\n",
    "    'Sales':             np.random.uniform(20, 200, 50),\n",
    "    'Time_Period':       np.arange(1, 51)\n",
    "}\n",
    "\n",
    "# Add your new categorical variable\n",
    "data['Product_Category'] = np.random.choice(['A', 'B', 'C'], 50)\n",
    "\n",
    "df = pd.DataFrame(data)\n",
    "df.head(3)\n"
   ]
  },
  {
   "cell_type": "code",
   "execution_count": 9,
   "id": "8936c1ec",
   "metadata": {},
   "outputs": [
    {
     "data": {
      "text/html": [
       "<div>\n",
       "<style scoped>\n",
       "    .dataframe tbody tr th:only-of-type {\n",
       "        vertical-align: middle;\n",
       "    }\n",
       "\n",
       "    .dataframe tbody tr th {\n",
       "        vertical-align: top;\n",
       "    }\n",
       "\n",
       "    .dataframe thead th {\n",
       "        text-align: right;\n",
       "    }\n",
       "</style>\n",
       "<table border=\"1\" class=\"dataframe\">\n",
       "  <thead>\n",
       "    <tr style=\"text-align: right;\">\n",
       "      <th></th>\n",
       "      <th>Advertising_Spend</th>\n",
       "      <th>Region</th>\n",
       "      <th>Sales</th>\n",
       "      <th>Time_Period</th>\n",
       "      <th>Product_Category</th>\n",
       "    </tr>\n",
       "  </thead>\n",
       "  <tbody>\n",
       "    <tr>\n",
       "      <th>0</th>\n",
       "      <td>43.708611</td>\n",
       "      <td>East</td>\n",
       "      <td>151.221290</td>\n",
       "      <td>1</td>\n",
       "      <td>B</td>\n",
       "    </tr>\n",
       "    <tr>\n",
       "      <th>1</th>\n",
       "      <td>95.564288</td>\n",
       "      <td>South</td>\n",
       "      <td>158.828662</td>\n",
       "      <td>2</td>\n",
       "      <td>A</td>\n",
       "    </tr>\n",
       "    <tr>\n",
       "      <th>2</th>\n",
       "      <td>75.879455</td>\n",
       "      <td>South</td>\n",
       "      <td>33.328037</td>\n",
       "      <td>3</td>\n",
       "      <td>A</td>\n",
       "    </tr>\n",
       "  </tbody>\n",
       "</table>\n",
       "</div>"
      ],
      "text/plain": [
       "   Advertising_Spend Region       Sales  Time_Period Product_Category\n",
       "0          43.708611   East  151.221290            1                B\n",
       "1          95.564288  South  158.828662            2                A\n",
       "2          75.879455  South   33.328037            3                A"
      ]
     },
     "execution_count": 9,
     "metadata": {},
     "output_type": "execute_result"
    }
   ],
   "source": [
    "# Save to CSV\n",
    "df.to_csv('sales_data.csv', index=False)\n",
    "\n",
    "# Read it back (to demonstrate)\n",
    "df = pd.read_csv('sales_data.csv')\n",
    "df.head(3)\n"
   ]
  },
  {
   "cell_type": "code",
   "execution_count": 10,
   "id": "f343c3fe",
   "metadata": {},
   "outputs": [
    {
     "name": "stdout",
     "output_type": "stream",
     "text": [
      "SciPy one-way ANOVA → F = 0.1538, p = 0.9267\n"
     ]
    }
   ],
   "source": [
    "# Group Sales by Region\n",
    "groups = [grp[\"Sales\"].values for _, grp in df.groupby(\"Region\")]\n",
    "\n",
    "# SciPy ANOVA\n",
    "f_stat, p_val = f_oneway(*groups)\n",
    "print(f\"SciPy one-way ANOVA → F = {f_stat:.4f}, p = {p_val:.4f}\")\n",
    "\n"
   ]
  },
  {
   "cell_type": "code",
   "execution_count": 11,
   "id": "7e413386",
   "metadata": {},
   "outputs": [
    {
     "name": "stdout",
     "output_type": "stream",
     "text": [
      "----- OLS Summary (One‑Way) -----\n",
      "                            OLS Regression Results                            \n",
      "==============================================================================\n",
      "Dep. Variable:                  Sales   R-squared:                       0.010\n",
      "Model:                            OLS   Adj. R-squared:                 -0.055\n",
      "Method:                 Least Squares   F-statistic:                    0.1538\n",
      "Date:                Sun, 18 May 2025   Prob (F-statistic):              0.927\n",
      "Time:                        12:22:17   Log-Likelihood:                -267.95\n",
      "No. Observations:                  50   AIC:                             543.9\n",
      "Df Residuals:                      46   BIC:                             551.5\n",
      "Df Model:                           3                                         \n",
      "Covariance Type:            nonrobust                                         \n",
      "======================================================================================\n",
      "                         coef    std err          t      P>|t|      [0.025      0.975]\n",
      "--------------------------------------------------------------------------------------\n",
      "Intercept            113.1296     16.952      6.673      0.000      79.006     147.253\n",
      "C(Region)[T.North]    -6.3217     22.196     -0.285      0.777     -51.000      38.356\n",
      "C(Region)[T.South]     0.8861     23.974      0.037      0.971     -47.372      49.144\n",
      "C(Region)[T.West]    -11.6627     21.610     -0.540      0.592     -55.162      31.836\n",
      "==============================================================================\n",
      "Omnibus:                       15.358   Durbin-Watson:                   1.528\n",
      "Prob(Omnibus):                  0.000   Jarque-Bera (JB):                3.410\n",
      "Skew:                          -0.094   Prob(JB):                        0.182\n",
      "Kurtosis:                       1.735   Cond. No.                         5.33\n",
      "==============================================================================\n",
      "\n",
      "Notes:\n",
      "[1] Standard Errors assume that the covariance matrix of the errors is correctly specified.\n",
      "\n",
      "----- ANOVA Table (One‑Way) -----\n",
      "                  sum_sq    df        F    PR(>F)\n",
      "C(Region)    1325.911044   3.0  0.15379  0.926723\n",
      "Residual   132197.090036  46.0      NaN       NaN\n"
     ]
    }
   ],
   "source": [
    "# Fit OLS model\n",
    "model_one = ols(\"Sales ~ C(Region)\", data=df).fit()\n",
    "\n",
    "# Get ANOVA table (Type II)\n",
    "anova_one = sm.stats.anova_lm(model_one, typ=2)\n",
    "\n",
    "# Display results\n",
    "print(\"----- OLS Summary (One‑Way) -----\")\n",
    "print(model_one.summary())\n",
    "\n",
    "print(\"\\n----- ANOVA Table (One‑Way) -----\")\n",
    "print(anova_one)\n"
   ]
  },
  {
   "cell_type": "code",
   "execution_count": 12,
   "id": "9ecd1ce0",
   "metadata": {},
   "outputs": [
    {
     "name": "stdout",
     "output_type": "stream",
     "text": [
      "----- ANOVA Table (Two‑Way + Interaction) -----\n",
      "                                      sum_sq    df         F    PR(>F)\n",
      "C(Region)                        1740.455552   3.0  0.208419  0.889941\n",
      "C(Product_Category)              9048.966150   2.0  1.625415  0.210217\n",
      "C(Region):C(Product_Category)   17371.833733   6.0  1.040135  0.415003\n",
      "Residual                       105776.290153  38.0       NaN       NaN\n"
     ]
    }
   ],
   "source": [
    "model_two = ols(\n",
    "    \"Sales ~ C(Region) + C(Product_Category) + C(Region):C(Product_Category)\", \n",
    "    data=df\n",
    ").fit()\n",
    "\n",
    "anova_two = sm.stats.anova_lm(model_two, typ=2)\n",
    "\n",
    "print(\"----- ANOVA Table (Two‑Way + Interaction) -----\")\n",
    "print(anova_two)\n"
   ]
  },
  {
   "cell_type": "code",
   "execution_count": null,
   "id": "362f23e4",
   "metadata": {},
   "outputs": [],
   "source": []
  }
 ],
 "metadata": {
  "kernelspec": {
   "display_name": "env",
   "language": "python",
   "name": "python3"
  },
  "language_info": {
   "codemirror_mode": {
    "name": "ipython",
    "version": 3
   },
   "file_extension": ".py",
   "mimetype": "text/x-python",
   "name": "python",
   "nbconvert_exporter": "python",
   "pygments_lexer": "ipython3",
   "version": "3.12.4"
  }
 },
 "nbformat": 4,
 "nbformat_minor": 5
}
