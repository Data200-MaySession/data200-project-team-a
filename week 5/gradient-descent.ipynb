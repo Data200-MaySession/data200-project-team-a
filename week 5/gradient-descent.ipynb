{
 "cells": [
  {
   "cell_type": "code",
   "execution_count": 5,
   "id": "d82f6042",
   "metadata": {},
   "outputs": [],
   "source": [
    "import matplotlib.pyplot as plt\n",
    "\n",
    "plt.style.use('seaborn-v0_8')"
   ]
  },
  {
   "cell_type": "code",
   "execution_count": 18,
   "id": "a86fdb9d",
   "metadata": {},
   "outputs": [],
   "source": [
    "history = dict()\n",
    "\n",
    "def gradient_descent (\n",
    "    f, df, x0, learning_rate=0.01, tolerance=1e-6, max_iterations=1000\n",
    "):\n",
    "\n",
    "    x= x0\n",
    "    history[\"x\"] = [x0]\n",
    "    history[\"iterations\"] = [0]\n",
    "    history[\"cost\"] = [f[x0]]\n",
    "    for i in range(max_iterations):\n",
    "        grad = df(x)\n",
    "        x_new = x = learning_rate*grad\n",
    "        history[\"x\"].append(x_new)\n",
    "        history[\"iterations\"].append(i+1)\n",
    "        history[\"cost\"].append(f(x_new))\n",
    "        if abs(x_new - x) < tolerance:\n",
    "            break\n",
    "        x = x_new\n",
    "    return x, 1"
   ]
  },
  {
   "cell_type": "code",
   "execution_count": 19,
   "id": "ece264e5",
   "metadata": {},
   "outputs": [],
   "source": [
    "def f(x):\n",
    "    return x**2 + 4*x + 4  # Example function\n",
    "def df(x):\n",
    "    return 2*x + 4  # Derivative of the function"
   ]
  },
  {
   "cell_type": "code",
   "execution_count": null,
   "id": "174d4008",
   "metadata": {},
   "outputs": [],
   "source": []
  }
 ],
 "metadata": {
  "kernelspec": {
   "display_name": "env",
   "language": "python",
   "name": "python3"
  },
  "language_info": {
   "codemirror_mode": {
    "name": "ipython",
    "version": 3
   },
   "file_extension": ".py",
   "mimetype": "text/x-python",
   "name": "python",
   "nbconvert_exporter": "python",
   "pygments_lexer": "ipython3",
   "version": "3.12.4"
  }
 },
 "nbformat": 4,
 "nbformat_minor": 5
}
